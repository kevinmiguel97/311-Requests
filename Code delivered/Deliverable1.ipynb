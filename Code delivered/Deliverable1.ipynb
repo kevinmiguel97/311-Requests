{
 "cells": [
  {
   "cell_type": "markdown",
   "metadata": {},
   "source": [
    "Project Deliverable 1 - D7 311\n",
    "\n",
    "Checklist\n",
    "1. Collect and pre-process a preliminary batch of data\n",
    "2. Perform a preliminary analysis of the data\n",
    "3. Answer one key question\n",
    "4. Refine project scope and list of limitations with data and potential risks of achieving project goal\n",
    "5. Submit a PR with the above report and modifications to original proposal\n",
    "\n"
   ]
  },
  {
   "cell_type": "code",
   "execution_count": 2,
   "metadata": {},
   "outputs": [
    {
     "name": "stderr",
     "output_type": "stream",
     "text": [
      "/var/folders/n6/mp6mw7cj3h35gsgqcgr72sbw0000gn/T/ipykernel_41754/3417555797.py:2: DtypeWarning: Columns (15) have mixed types. Specify dtype option on import or set low_memory=False.\n",
      "  dfall = pd.read_csv('all_districts.csv')\n",
      "/var/folders/n6/mp6mw7cj3h35gsgqcgr72sbw0000gn/T/ipykernel_41754/3417555797.py:3: DtypeWarning: Columns (15) have mixed types. Specify dtype option on import or set low_memory=False.\n",
      "  df7 = pd.read_csv('district7_311.csv')\n"
     ]
    }
   ],
   "source": [
    "import pandas as pd\n",
    "dfall = pd.read_csv('all_districts.csv')\n",
    "df7 = pd.read_csv('district7_311.csv')"
   ]
  },
  {
   "cell_type": "code",
   "execution_count": 44,
   "metadata": {},
   "outputs": [
    {
     "name": "stdout",
     "output_type": "stream",
     "text": [
      "Percentage of requests that were not closed in all districts outside of D7 is 0.10664141431676306\n",
      "Percentage of requests that were not closed in D7 is 0.11831628393192911\n",
      "Average number of hours from start to close for entire dataset of closed requests is 276.9027821464053\n",
      "Average number of hours from start to close for D7 of closed requests is 268.0899801151966\n"
     ]
    }
   ],
   "source": [
    "# Brian\n",
    "import pandas as pd\n",
    "import numpy as np\n",
    "from datetime import datetime\n",
    "import matplotlib.pyplot as plt\n",
    "\n",
    "#dfall = pd.read_csv('all_districts.csv')\n",
    "#df7 = pd.read_csv('district7_311.csv')\n",
    "\n",
    "# Percentage of requests that were not closed\n",
    "\n",
    "unfinishedAll = dfall.loc[dfall['case_status'] == 'Open']\n",
    "unfinished7 = df7.loc[df7['case_status'] == 'Open']\n",
    "\n",
    "print(\"Percentage of requests that were not closed in all districts outside of D7 is \" + str(unfinishedAll.shape[0] / dfall.shape[0]))\n",
    "print(\"Percentage of requests that were not closed in D7 is \" + str(unfinished7.shape[0] / df7.shape[0]))\n",
    "\n",
    "# Average Time from start to close for entire dataset of closed requests (not including D7)\n",
    "\n",
    "def calcTime(start, end):\n",
    "    date_format_str = '%Y-%m-%d %H:%M:%S'\n",
    "    start = datetime.strptime(start, date_format_str)\n",
    "    end =   datetime.strptime(end, date_format_str)\n",
    "    diff = end-start\n",
    "    diff_in_hours = diff.total_seconds() / 3600\n",
    "    return diff_in_hours\n",
    "\n",
    "closedAll = dfall.loc[dfall['case_status'] == 'Closed']\n",
    "\n",
    "totalAll = 0\n",
    "for i in range(closedAll.shape[0]):\n",
    "    totalAll += calcTime(closedAll.iloc[i, 2], closedAll.iloc[i, 4])\n",
    "print(\"Average number of hours from start to close for entire dataset of closed requests is \" + str(totalAll/closedAll.shape[0]))\n",
    "\n",
    "\n",
    "# Average Time from start to close for D7 of closed requests\n",
    "\n",
    "closed7 = df7.loc[df7['case_status'] == 'Closed']\n",
    "\n",
    "total7 = 0\n",
    "for i in range(closed7.shape[0]):\n",
    "    total7 += calcTime(closed7.iloc[i, 2], closed7.iloc[i, 4])\n",
    "print(\"Average number of hours from start to close for D7 of closed requests is \" + str(total7/closed7.shape[0]))"
   ]
  },
  {
   "cell_type": "code",
   "execution_count": 4,
   "metadata": {},
   "outputs": [
    {
     "data": {
      "image/png": "[encoded data removed]",
      "text/plain": [
       "<Figure size 432x288 with 1 Axes>"
      ]
     },
     "metadata": {
      "needs_background": "light"
     },
     "output_type": "display_data"
    },
    {
     "data": {
      "image/png": "[encoded data removed]",
      "text/plain": [
       "<Figure size 432x288 with 1 Axes>"
      ]
     },
     "metadata": {
      "needs_background": "light"
     },
     "output_type": "display_data"
    }
   ],
   "source": [
    "# Kevin\n",
    "\"\"\"\n",
    "How many requests in each year, with histogram\n",
    "\"\"\"\n",
    "import pandas as pd\n",
    "import matplotlib.pyplot as plt\n",
    "\n",
    "# Loading data of district 7 from 2017 to 2021\n",
    "df_district7 = pd.read_csv('311_data/district7_311.csv')\n",
    "\n",
    "# Extracting year and month\n",
    "df_district7['year_open'] = df_district7['open_dt'].apply(lambda x: int(x.split('-')[0]))\n",
    "df_district7['month_open'] = df_district7['open_dt'].apply(lambda x: int(x.split('-')[1]))\n",
    "\n",
    "# Obtaining number of requests for D7 by year and by month\n",
    "requests_per_year = []\n",
    "for year in range(2017, 2022):\n",
    "    requests = len(df_district7[df_district7['year_open'] == year])\n",
    "    requests_per_year.append(requests)\n",
    "\n",
    "requests_per_month = []\n",
    "for month in range(1, 13):\n",
    "    requests = len(df_district7[df_district7['month_open'] == month])\n",
    "    requests_per_month.append(requests)\n",
    "\n",
    "# Graphs\n",
    "# Yearly\n",
    "plt.bar(range(2017, 2022), requests_per_year)\n",
    "plt.title('Total requests per year')\n",
    "plt.xlabel('Year')\n",
    "plt.ylabel('Number of requests')\n",
    "\n",
    "plt.show()\n",
    "\n",
    "# Monthly\n",
    "months = ['January', 'February', 'March', 'April', 'May', 'June', 'July', 'August', 'September', 'October', 'November', 'December']\n",
    "plt.bar(months, requests_per_month)\n",
    "plt.title('Total requests per month')\n",
    "plt.xticks(rotation=70)\n",
    "plt.ylabel('Number of requests')\n",
    "\n",
    "plt.show()\n"
   ]
  },
  {
   "cell_type": "code",
   "execution_count": 5,
   "metadata": {},
   "outputs": [
    {
     "name": "stderr",
     "output_type": "stream",
     "text": [
      "C:\\Users\\ryany\\anaconda3\\lib\\site-packages\\IPython\\core\\interactiveshell.py:3165: DtypeWarning: Columns (14) have mixed types.Specify dtype option on import or set low_memory=False.\n",
      "  has_raised = await self.run_ast_nodes(code_ast.body, cell_name,\n"
     ]
    }
   ],
   "source": [
    "# Samantha\n",
    "import pandas as pd\n",
    "import numpy as np \n",
    "\"\"\"Filter dataset to only city council district 7 > csv\n",
    "Filter dataset to all except district 7 > csv\n",
    "share on Google drive share w/ group\n",
    "Setup google slides and share w/ group\"\"\"\n",
    "\n",
    "df_2017 = pd.read_csv('311_data/2017.csv')\n",
    "df_2018 = pd.read_csv('311_data/2018.csv')\n",
    "df_2019 = pd.read_csv('311_data/2019.csv')\n",
    "df_2020 = pd.read_csv('311_data/2020.csv')\n",
    "df_2021 = pd.read_csv('311_data/2021.csv')\n",
    "\n",
    "df_5_year = pd.concat([df_2017, df_2018, df_2019, df_2020, df_2021])"
   ]
  },
  {
   "cell_type": "code",
   "execution_count": 6,
   "metadata": {},
   "outputs": [],
   "source": [
    "district_7 = df_5_year.loc[df_5_year['city_council_district'] == '7']\n",
    "district_7.to_csv('district7_311.csv')"
   ]
  },
  {
   "cell_type": "code",
   "execution_count": 44,
   "metadata": {},
   "outputs": [
    {
     "ename": "NameError",
     "evalue": "name 'df_5_year' is not defined",
     "output_type": "error",
     "traceback": [
      "\u001b[1;31m---------------------------------------------------------------------------\u001b[0m",
      "\u001b[1;31mNameError\u001b[0m                                 Traceback (most recent call last)",
      "\u001b[1;32m<ipython-input-44-71e39c506a3c>\u001b[0m in \u001b[0;36m<module>\u001b[1;34m\u001b[0m\n\u001b[1;32m----> 1\u001b[1;33m \u001b[0mall_other_districts\u001b[0m \u001b[1;33m=\u001b[0m \u001b[0mdf_5_year\u001b[0m\u001b[1;33m.\u001b[0m\u001b[0mloc\u001b[0m\u001b[1;33m[\u001b[0m\u001b[0mdf_5_year\u001b[0m\u001b[1;33m[\u001b[0m\u001b[1;34m'city_council_district'\u001b[0m\u001b[1;33m]\u001b[0m \u001b[1;33m!=\u001b[0m \u001b[1;34m'7'\u001b[0m\u001b[1;33m]\u001b[0m\u001b[1;33m\u001b[0m\u001b[1;33m\u001b[0m\u001b[0m\n\u001b[0m\u001b[0;32m      2\u001b[0m \u001b[0mall_other_districts\u001b[0m\u001b[1;33m.\u001b[0m\u001b[0mto_csv\u001b[0m\u001b[1;33m(\u001b[0m\u001b[1;34m'all_districts.csv'\u001b[0m\u001b[1;33m)\u001b[0m\u001b[1;33m\u001b[0m\u001b[1;33m\u001b[0m\u001b[0m\n\u001b[0;32m      3\u001b[0m \u001b[1;33m\u001b[0m\u001b[0m\n\u001b[0;32m      4\u001b[0m \u001b[1;31m# https://drive.google.com/drive/u/2/folders/1PdVWEVEv-B9bsLuR2Ri5FSDvPsxc_avL\u001b[0m\u001b[1;33m\u001b[0m\u001b[1;33m\u001b[0m\u001b[1;33m\u001b[0m\u001b[0m\n",
      "\u001b[1;31mNameError\u001b[0m: name 'df_5_year' is not defined"
     ]
    }
   ],
   "source": [
    "all_other_districts = df_5_year.loc[df_5_year['city_council_district'] != '7']\n",
    "all_other_districts.to_csv('all_districts.csv')\n",
    "\n",
    "# https://drive.google.com/drive/u/2/folders/1PdVWEVEv-B9bsLuR2Ri5FSDvPsxc_avL"
   ]
  },
  {
   "cell_type": "code",
   "execution_count": 46,
   "metadata": {},
   "outputs": [],
   "source": [
    "#Samantha \n",
    "import censusdata # pip install CensusData\n",
    "\n",
    "#sample = censusdata.search('acs5', 2015,'concept', 'race')\n",
    "#censusdata.printtable(censusdata.censustable('acs5', 2015, 'B02001')) #race\n",
    "#states = censusdata.geographies(censusdata.censusgeo([('state', '*')]), 'acs5', 2015)\n",
    "#print(states['Massachusetts']) #summary level: 040, state:25\n",
    "#place = censusdata.geographies(censusdata.censusgeo([('state', '25'), ('place', '*')]), 'acs5', 2015) #suffolk is county 25\n",
    "#print(place) #Boston 07000\n",
    "race_county_data = censusdata.download('acs5', 2015,\n",
    "           censusdata.censusgeo([('state', '25'),\n",
    "                                 ('county', '025'),\n",
    "                                 ('tract', '*')]),\n",
    "          ['B02001_001E', 'B02001_002E', 'B02001_003E',\n",
    "           'B02001_004E', 'B02001_005E', 'B02001_006E', \n",
    "           'B02001_007E', 'B02001_008E', 'B02001_009E', 'B02001_010E']) #                                 \n",
    "column_names = ['Total_race', 'White', 'African_American', 'American_Indian', 'Asian', 'Native Hawaiian', 'Other_race', 'Two_or_more_races', 'Two_or_more_including_other', 'Two_or_more_excluding_other'] #column3 is black or african american, 4 is American Indian and Alaska Native, 'Native Hawaiian or Pacific Islander, \n",
    "race_county_data.columns = column_names"
   ]
  },
  {
   "cell_type": "code",
   "execution_count": 47,
   "metadata": {},
   "outputs": [
    {
     "data": {
      "text/html": [
       "<div>\n",
       "<style scoped>\n",
       "    .dataframe tbody tr th:only-of-type {\n",
       "        vertical-align: middle;\n",
       "    }\n",
       "\n",
       "    .dataframe tbody tr th {\n",
       "        vertical-align: top;\n",
       "    }\n",
       "\n",
       "    .dataframe thead th {\n",
       "        text-align: right;\n",
       "    }\n",
       "</style>\n",
       "<table border=\"1\" class=\"dataframe\">\n",
       "  <thead>\n",
       "    <tr style=\"text-align: right;\">\n",
       "      <th></th>\n",
       "      <th>Total_race</th>\n",
       "      <th>White</th>\n",
       "      <th>African_American</th>\n",
       "      <th>American_Indian</th>\n",
       "      <th>Asian</th>\n",
       "      <th>Native Hawaiian</th>\n",
       "      <th>Other_race</th>\n",
       "      <th>Two_or_more_races</th>\n",
       "      <th>Two_or_more_including_other</th>\n",
       "      <th>Two_or_more_excluding_other</th>\n",
       "    </tr>\n",
       "  </thead>\n",
       "  <tbody>\n",
       "    <tr>\n",
       "      <th>Census Tract 203.03, Suffolk County, Massachusetts: Summary level: 140, state:25&gt; county:025&gt; tract:020303</th>\n",
       "      <td>3574</td>\n",
       "      <td>2357</td>\n",
       "      <td>297</td>\n",
       "      <td>0</td>\n",
       "      <td>533</td>\n",
       "      <td>0</td>\n",
       "      <td>286</td>\n",
       "      <td>101</td>\n",
       "      <td>0</td>\n",
       "      <td>101</td>\n",
       "    </tr>\n",
       "  </tbody>\n",
       "</table>\n",
       "</div>"
      ],
      "text/plain": [
       "                                                    Total_race  White  \\\n",
       "Census Tract 203.03, Suffolk County, Massachuse...        3574   2357   \n",
       "\n",
       "                                                    African_American  \\\n",
       "Census Tract 203.03, Suffolk County, Massachuse...               297   \n",
       "\n",
       "                                                    American_Indian  Asian  \\\n",
       "Census Tract 203.03, Suffolk County, Massachuse...                0    533   \n",
       "\n",
       "                                                    Native Hawaiian  \\\n",
       "Census Tract 203.03, Suffolk County, Massachuse...                0   \n",
       "\n",
       "                                                    Other_race  \\\n",
       "Census Tract 203.03, Suffolk County, Massachuse...         286   \n",
       "\n",
       "                                                    Two_or_more_races  \\\n",
       "Census Tract 203.03, Suffolk County, Massachuse...                101   \n",
       "\n",
       "                                                    Two_or_more_including_other  \\\n",
       "Census Tract 203.03, Suffolk County, Massachuse...                            0   \n",
       "\n",
       "                                                    Two_or_more_excluding_other  \n",
       "Census Tract 203.03, Suffolk County, Massachuse...                          101  "
      ]
     },
     "execution_count": 47,
     "metadata": {},
     "output_type": "execute_result"
    }
   ],
   "source": [
    "#need to filter by tract?\n",
    "race_county_data.head(1)\n"
   ]
  },
  {
   "cell_type": "code",
   "execution_count": 48,
   "metadata": {},
   "outputs": [
    {
     "data": {
      "text/html": [
       "<div>\n",
       "<style scoped>\n",
       "    .dataframe tbody tr th:only-of-type {\n",
       "        vertical-align: middle;\n",
       "    }\n",
       "\n",
       "    .dataframe tbody tr th {\n",
       "        vertical-align: top;\n",
       "    }\n",
       "\n",
       "    .dataframe thead th {\n",
       "        text-align: right;\n",
       "    }\n",
       "</style>\n",
       "<table border=\"1\" class=\"dataframe\">\n",
       "  <thead>\n",
       "    <tr style=\"text-align: right;\">\n",
       "      <th></th>\n",
       "      <th>Total_race</th>\n",
       "      <th>White</th>\n",
       "      <th>African_American</th>\n",
       "      <th>American_Indian</th>\n",
       "      <th>Asian</th>\n",
       "      <th>Native Hawaiian</th>\n",
       "      <th>Other_race</th>\n",
       "      <th>Two_or_more_races</th>\n",
       "      <th>Two_or_more_including_other</th>\n",
       "      <th>Two_or_more_excluding_other</th>\n",
       "      <th>Tract</th>\n",
       "    </tr>\n",
       "    <tr>\n",
       "      <th>index</th>\n",
       "      <th></th>\n",
       "      <th></th>\n",
       "      <th></th>\n",
       "      <th></th>\n",
       "      <th></th>\n",
       "      <th></th>\n",
       "      <th></th>\n",
       "      <th></th>\n",
       "      <th></th>\n",
       "      <th></th>\n",
       "      <th></th>\n",
       "    </tr>\n",
       "  </thead>\n",
       "  <tbody>\n",
       "    <tr>\n",
       "      <th>Census Tract 203.03, Suffolk County, Massachusetts: Summary level: 140, state:25&gt; county:025&gt; tract:020303</th>\n",
       "      <td>3574</td>\n",
       "      <td>2357</td>\n",
       "      <td>297</td>\n",
       "      <td>0</td>\n",
       "      <td>533</td>\n",
       "      <td>0</td>\n",
       "      <td>286</td>\n",
       "      <td>101</td>\n",
       "      <td>0</td>\n",
       "      <td>101</td>\n",
       "      <td>020303</td>\n",
       "    </tr>\n",
       "  </tbody>\n",
       "</table>\n",
       "</div>"
      ],
      "text/plain": [
       "                                                    Total_race  White  \\\n",
       "index                                                                   \n",
       "Census Tract 203.03, Suffolk County, Massachuse...        3574   2357   \n",
       "\n",
       "                                                    African_American  \\\n",
       "index                                                                  \n",
       "Census Tract 203.03, Suffolk County, Massachuse...               297   \n",
       "\n",
       "                                                    American_Indian  Asian  \\\n",
       "index                                                                        \n",
       "Census Tract 203.03, Suffolk County, Massachuse...                0    533   \n",
       "\n",
       "                                                    Native Hawaiian  \\\n",
       "index                                                                 \n",
       "Census Tract 203.03, Suffolk County, Massachuse...                0   \n",
       "\n",
       "                                                    Other_race  \\\n",
       "index                                                            \n",
       "Census Tract 203.03, Suffolk County, Massachuse...         286   \n",
       "\n",
       "                                                    Two_or_more_races  \\\n",
       "index                                                                   \n",
       "Census Tract 203.03, Suffolk County, Massachuse...                101   \n",
       "\n",
       "                                                    Two_or_more_including_other  \\\n",
       "index                                                                             \n",
       "Census Tract 203.03, Suffolk County, Massachuse...                            0   \n",
       "\n",
       "                                                    Two_or_more_excluding_other  \\\n",
       "index                                                                             \n",
       "Census Tract 203.03, Suffolk County, Massachuse...                          101   \n",
       "\n",
       "                                                     Tract  \n",
       "index                                                       \n",
       "Census Tract 203.03, Suffolk County, Massachuse...  020303  "
      ]
     },
     "execution_count": 48,
     "metadata": {},
     "output_type": "execute_result"
    }
   ],
   "source": [
    "# Add a Tract column from the original index\n",
    "race_county_data.reset_index(inplace=True)\n",
    "race_county_data['index'] = race_county_data['index'].astype(str)\n",
    "race_county_data['Tract'] = race_county_data['index'].str[-6:]\n",
    "race_county_data.set_index('index', inplace=True)\n",
    "race_county_data.head(1)\n"
   ]
  },
  {
   "cell_type": "code",
   "execution_count": 47,
   "metadata": {},
   "outputs": [
    {
     "data": {
      "text/plain": [
       "censusgeo((('state', '25'), ('county', '025'), ('tract', '020303')), 'Census Tract 203.03, Suffolk County, Massachusetts')"
      ]
     },
     "execution_count": 47,
     "metadata": {},
     "output_type": "execute_result"
    }
   ],
   "source": [
    "race_county_data.index[0]"
   ]
  },
  {
   "cell_type": "markdown",
   "metadata": {},
   "source": [
    "https://api.census.gov/data/2020/acs/acs5/variables.html\n",
    "tracks for Boston: https://bostonopendata-boston.opendata.arcgis.com/datasets/boston::census-2010-tracts/explore?location=42.335218%2C-71.020226%2C11.00&showTable=true"
   ]
  },
  {
   "cell_type": "code",
   "execution_count": 47,
   "metadata": {},
   "outputs": [
    {
     "data": {
      "image/png": "[encoded data removed]",
      "text/plain": [
       "<Figure size 432x288 with 1 Axes>"
      ]
     },
     "metadata": {
      "needs_background": "light"
     },
     "output_type": "display_data"
    },
    {
     "data": {
      "image/png": "[encoded data removed]",
      "text/plain": [
       "<Figure size 432x288 with 1 Axes>"
      ]
     },
     "metadata": {
      "needs_background": "light"
     },
     "output_type": "display_data"
    }
   ],
   "source": [
    "# Ryan\n",
    "\n",
    "# data source http://www.bostonplans.org/research/research-publications-overview/population-demographics\n",
    "# http://www.bostonplans.org/getattachment/e030be7d-3b42-400f-b834-ef55144f01e6/\n",
    "\n",
    "#  Boston City Council Districts from the 2009-2013 American Community Survey\n",
    "import pandas as pd\n",
    "import matplotlib.pyplot as plt\n",
    "\n",
    "district_names = ['D1','D2','D3','D4','D5','D6','D7','D8','D9']\n",
    "districts_pop = [69756, 72867, 72359, 71554, 69454, 73647, 65183, 74469, 59536]\n",
    "total_pop = 628825\n",
    "names_pop_dict = dict(zip(district_names,districts_pop))\n",
    "\n",
    "district_counts = df_5_year['city_council_district'].value_counts().sort_index()\n",
    "district_counts = district_counts.tail(9) #removes na and district 0\n",
    "\n",
    "district_counts_by_pop = district_counts/districts_pop\n",
    "\n",
    "\n",
    "plt.bar(district_counts.index.values, district_counts, color=['tab:blue', 'tab:blue', 'tab:blue', 'tab:blue', 'tab:blue','tab:blue','forestgreen','tab:blue','tab:blue'])\n",
    "plt.title('Total 311 Requests per Boston City Council District (2017-2021)')\n",
    "plt.xlabel('District')\n",
    "plt.ylabel('Number of requests')\n",
    "plt.show()\n",
    "\n",
    "plt.bar(district_counts_by_pop.index.values, district_counts_by_pop, color=['tab:blue', 'tab:blue', 'tab:blue', 'tab:blue', 'tab:blue','tab:blue','forestgreen','tab:blue','tab:blue'])\n",
    "plt.title('311 Requests per Person by Boston City Council District (2017-2021)')\n",
    "plt.xlabel('District')\n",
    "plt.ylabel('Number of requests per person')\n",
    "plt.show()"
   ]
  },
  {
   "cell_type": "code",
   "execution_count": null,
   "metadata": {},
   "outputs": [],
   "source": []
  }
 ],
 "metadata": {
  "interpreter": {
   "hash": "52a7b1256baadbcfded298829fa032c6e5eb5320512cda093e76546fdb1847e3"
  },
  "kernelspec": {
   "display_name": "Python 3 (ipykernel)",
   "language": "python",
   "name": "python3"
  },
  "language_info": {
   "codemirror_mode": {
    "name": "ipython",
    "version": 3
   },
   "file_extension": ".py",
   "mimetype": "text/x-python",
   "name": "python",
   "nbconvert_exporter": "python",
   "pygments_lexer": "ipython3",
   "version": "3.8.8"
  }
 },
 "nbformat": 4,
 "nbformat_minor": 2
}
